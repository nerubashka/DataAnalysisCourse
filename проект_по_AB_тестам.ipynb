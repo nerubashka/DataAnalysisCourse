{
 "cells": [
  {
   "cell_type": "markdown",
   "id": "96ac1922",
   "metadata": {
    "id": "96ac1922"
   },
   "source": [
    "# Шаблон для проекта по A/B - тестам."
   ]
  },
  {
   "cell_type": "markdown",
   "id": "e01e5ec9",
   "metadata": {
    "id": "e01e5ec9"
   },
   "source": [
    "### `chat_id ` из Телеграма:"
   ]
  },
  {
   "cell_type": "code",
   "execution_count": 26,
   "id": "Of7L1OK6jEKT",
   "metadata": {
    "id": "Of7L1OK6jEKT"
   },
   "outputs": [],
   "source": [
    "chat_id = 460109099"
   ]
  },
  {
   "cell_type": "markdown",
   "id": "1fb036f5",
   "metadata": {
    "id": "1fb036f5"
   },
   "source": [
    "------------------"
   ]
  },
  {
   "cell_type": "markdown",
   "id": "d8c6f14f",
   "metadata": {
    "id": "d8c6f14f"
   },
   "source": [
    "##  <ins>Задание 1.</ins>"
   ]
  },
  {
   "cell_type": "markdown",
   "id": "cMi1ZWvej6zB",
   "metadata": {
    "id": "cMi1ZWvej6zB"
   },
   "source": [
    "### 0. Запосить у бота в Телеграме условие командой `/get_project1_desc`."
   ]
  },
  {
   "cell_type": "markdown",
   "id": "0dd4c840",
   "metadata": {
    "id": "0dd4c840"
   },
   "source": [
    "### 1. Необходимо выбрать метрику и привести аргументацию."
   ]
  },
  {
   "attachments": {},
   "cell_type": "markdown",
   "id": "925d65a0",
   "metadata": {},
   "source": [
    "Так как данные по среднему доходу ждать нет времени, можно отслеживать только сам факт успешности звонков, т.е. конверсию из дозвона в продажу. Это и будет целевой метрикой."
   ]
  },
  {
   "cell_type": "code",
   "execution_count": 11,
   "id": "vG7kmtMEjHOU",
   "metadata": {
    "id": "vG7kmtMEjHOU"
   },
   "outputs": [],
   "source": [
    "import pandas as pd\n",
    "data1 = pd.read_csv('hist_telesales.csv').drop(columns='ID')"
   ]
  },
  {
   "cell_type": "code",
   "execution_count": 12,
   "id": "35e680fd",
   "metadata": {},
   "outputs": [
    {
     "data": {
      "text/html": [
       "<div>\n",
       "<style scoped>\n",
       "    .dataframe tbody tr th:only-of-type {\n",
       "        vertical-align: middle;\n",
       "    }\n",
       "\n",
       "    .dataframe tbody tr th {\n",
       "        vertical-align: top;\n",
       "    }\n",
       "\n",
       "    .dataframe thead th {\n",
       "        text-align: right;\n",
       "    }\n",
       "</style>\n",
       "<table border=\"1\" class=\"dataframe\">\n",
       "  <thead>\n",
       "    <tr style=\"text-align: right;\">\n",
       "      <th></th>\n",
       "      <th>Флаг дозвона</th>\n",
       "      <th>Флаг продажи</th>\n",
       "      <th>Расходы</th>\n",
       "      <th>PV</th>\n",
       "      <th>NPV</th>\n",
       "    </tr>\n",
       "  </thead>\n",
       "  <tbody>\n",
       "    <tr>\n",
       "      <th>0</th>\n",
       "      <td>1</td>\n",
       "      <td>0</td>\n",
       "      <td>90</td>\n",
       "      <td>0</td>\n",
       "      <td>-90</td>\n",
       "    </tr>\n",
       "    <tr>\n",
       "      <th>1</th>\n",
       "      <td>0</td>\n",
       "      <td>0</td>\n",
       "      <td>5</td>\n",
       "      <td>0</td>\n",
       "      <td>-5</td>\n",
       "    </tr>\n",
       "    <tr>\n",
       "      <th>2</th>\n",
       "      <td>0</td>\n",
       "      <td>0</td>\n",
       "      <td>68</td>\n",
       "      <td>0</td>\n",
       "      <td>-68</td>\n",
       "    </tr>\n",
       "    <tr>\n",
       "      <th>3</th>\n",
       "      <td>1</td>\n",
       "      <td>0</td>\n",
       "      <td>22</td>\n",
       "      <td>0</td>\n",
       "      <td>-22</td>\n",
       "    </tr>\n",
       "    <tr>\n",
       "      <th>4</th>\n",
       "      <td>1</td>\n",
       "      <td>0</td>\n",
       "      <td>22</td>\n",
       "      <td>0</td>\n",
       "      <td>-22</td>\n",
       "    </tr>\n",
       "    <tr>\n",
       "      <th>5</th>\n",
       "      <td>1</td>\n",
       "      <td>1</td>\n",
       "      <td>367</td>\n",
       "      <td>2397</td>\n",
       "      <td>2030</td>\n",
       "    </tr>\n",
       "    <tr>\n",
       "      <th>6</th>\n",
       "      <td>1</td>\n",
       "      <td>1</td>\n",
       "      <td>49</td>\n",
       "      <td>1213</td>\n",
       "      <td>1164</td>\n",
       "    </tr>\n",
       "    <tr>\n",
       "      <th>7</th>\n",
       "      <td>0</td>\n",
       "      <td>0</td>\n",
       "      <td>26</td>\n",
       "      <td>0</td>\n",
       "      <td>-26</td>\n",
       "    </tr>\n",
       "    <tr>\n",
       "      <th>8</th>\n",
       "      <td>0</td>\n",
       "      <td>0</td>\n",
       "      <td>35</td>\n",
       "      <td>0</td>\n",
       "      <td>-35</td>\n",
       "    </tr>\n",
       "    <tr>\n",
       "      <th>9</th>\n",
       "      <td>0</td>\n",
       "      <td>0</td>\n",
       "      <td>61</td>\n",
       "      <td>0</td>\n",
       "      <td>-61</td>\n",
       "    </tr>\n",
       "    <tr>\n",
       "      <th>10</th>\n",
       "      <td>1</td>\n",
       "      <td>0</td>\n",
       "      <td>161</td>\n",
       "      <td>0</td>\n",
       "      <td>-161</td>\n",
       "    </tr>\n",
       "    <tr>\n",
       "      <th>11</th>\n",
       "      <td>0</td>\n",
       "      <td>0</td>\n",
       "      <td>30</td>\n",
       "      <td>0</td>\n",
       "      <td>-30</td>\n",
       "    </tr>\n",
       "    <tr>\n",
       "      <th>12</th>\n",
       "      <td>0</td>\n",
       "      <td>0</td>\n",
       "      <td>27</td>\n",
       "      <td>0</td>\n",
       "      <td>-27</td>\n",
       "    </tr>\n",
       "    <tr>\n",
       "      <th>13</th>\n",
       "      <td>1</td>\n",
       "      <td>0</td>\n",
       "      <td>6</td>\n",
       "      <td>0</td>\n",
       "      <td>-6</td>\n",
       "    </tr>\n",
       "    <tr>\n",
       "      <th>14</th>\n",
       "      <td>1</td>\n",
       "      <td>1</td>\n",
       "      <td>493</td>\n",
       "      <td>1987</td>\n",
       "      <td>1494</td>\n",
       "    </tr>\n",
       "    <tr>\n",
       "      <th>15</th>\n",
       "      <td>1</td>\n",
       "      <td>0</td>\n",
       "      <td>157</td>\n",
       "      <td>0</td>\n",
       "      <td>-157</td>\n",
       "    </tr>\n",
       "    <tr>\n",
       "      <th>16</th>\n",
       "      <td>1</td>\n",
       "      <td>0</td>\n",
       "      <td>143</td>\n",
       "      <td>0</td>\n",
       "      <td>-143</td>\n",
       "    </tr>\n",
       "    <tr>\n",
       "      <th>17</th>\n",
       "      <td>1</td>\n",
       "      <td>0</td>\n",
       "      <td>106</td>\n",
       "      <td>0</td>\n",
       "      <td>-106</td>\n",
       "    </tr>\n",
       "    <tr>\n",
       "      <th>18</th>\n",
       "      <td>1</td>\n",
       "      <td>0</td>\n",
       "      <td>51</td>\n",
       "      <td>0</td>\n",
       "      <td>-51</td>\n",
       "    </tr>\n",
       "    <tr>\n",
       "      <th>19</th>\n",
       "      <td>1</td>\n",
       "      <td>1</td>\n",
       "      <td>183</td>\n",
       "      <td>1536</td>\n",
       "      <td>1353</td>\n",
       "    </tr>\n",
       "  </tbody>\n",
       "</table>\n",
       "</div>"
      ],
      "text/plain": [
       "    Флаг дозвона  Флаг продажи  Расходы    PV   NPV\n",
       "0              1             0       90     0   -90\n",
       "1              0             0        5     0    -5\n",
       "2              0             0       68     0   -68\n",
       "3              1             0       22     0   -22\n",
       "4              1             0       22     0   -22\n",
       "5              1             1      367  2397  2030\n",
       "6              1             1       49  1213  1164\n",
       "7              0             0       26     0   -26\n",
       "8              0             0       35     0   -35\n",
       "9              0             0       61     0   -61\n",
       "10             1             0      161     0  -161\n",
       "11             0             0       30     0   -30\n",
       "12             0             0       27     0   -27\n",
       "13             1             0        6     0    -6\n",
       "14             1             1      493  1987  1494\n",
       "15             1             0      157     0  -157\n",
       "16             1             0      143     0  -143\n",
       "17             1             0      106     0  -106\n",
       "18             1             0       51     0   -51\n",
       "19             1             1      183  1536  1353"
      ]
     },
     "execution_count": 12,
     "metadata": {},
     "output_type": "execute_result"
    }
   ],
   "source": [
    "data1.head(20)"
   ]
  },
  {
   "cell_type": "code",
   "execution_count": 16,
   "id": "cacad15c",
   "metadata": {},
   "outputs": [
    {
     "name": "stdout",
     "output_type": "stream",
     "text": [
      "конверсия из дозвона в продажу: 0.503719275549806\n",
      "\n",
      "MDE: 0.04029754204398448\n"
     ]
    }
   ],
   "source": [
    "conv = data1[data1[\"Флаг дозвона\"]==1][\"Флаг продажи\"].mean()\n",
    "print('конверсия из дозвона в продажу:', conv)\n",
    "uplift = 0.08\n",
    "MDE = conv * uplift\n",
    "print('\\nMDE:', MDE)"
   ]
  },
  {
   "cell_type": "markdown",
   "id": "b644cd0a",
   "metadata": {
    "id": "b644cd0a"
   },
   "source": [
    "### 2. Альтернатива в критерии."
   ]
  },
  {
   "attachments": {},
   "cell_type": "markdown",
   "id": "45399507",
   "metadata": {},
   "source": [
    "Выбираем двухстороннюю альтернативу с гипотезой о равенстве средних. Если по критерию средние не совпадут, посмотрим на конверсии и сделаем выводы."
   ]
  },
  {
   "cell_type": "markdown",
   "id": "727aefc4",
   "metadata": {
    "id": "727aefc4"
   },
   "source": [
    "### 3.1. Каков размер выборки? Привести аргументацию и написать как получилось то или иное число."
   ]
  },
  {
   "cell_type": "code",
   "execution_count": 19,
   "id": "fYijOurfjLNp",
   "metadata": {
    "id": "fYijOurfjLNp"
   },
   "outputs": [],
   "source": [
    "from scipy.stats import norm\n",
    "\n",
    "k = 0.5 # разбитие потока равновероятно\n",
    "alpha = 0.05 # уровень значимости\n",
    "beta = 0.8 # уверенность в различии изменений целевой метрики"
   ]
  },
  {
   "attachments": {},
   "cell_type": "markdown",
   "id": "7858bb34",
   "metadata": {},
   "source": [
    "Узнаем размер выборки теста по формуле (для двухсторонней альтернативы):"
   ]
  },
  {
   "cell_type": "code",
   "execution_count": 25,
   "id": "ea36dee1",
   "metadata": {},
   "outputs": [
    {
     "name": "stdout",
     "output_type": "stream",
     "text": [
      "\n",
      "Размер выборки: 2416\n"
     ]
    }
   ],
   "source": [
    "n = conv*(1-conv) * ( (norm.ppf(alpha/2) - norm.ppf(beta))**2 )/( 0.5*MDE**2 )\n",
    "print('\\nРазмер выборки:', int(n))"
   ]
  },
  {
   "cell_type": "markdown",
   "id": "8df8ee73",
   "metadata": {
    "id": "8df8ee73"
   },
   "source": [
    "### 3.2. Необходимо запросить у бота в Телеграме выборку полученного размера командой `/get_project1_sample {размер выборки}` и вписать <ins>код выборки</ins>:"
   ]
  },
  {
   "cell_type": "code",
   "execution_count": 24,
   "id": "9vCrM3wcjM0H",
   "metadata": {
    "id": "9vCrM3wcjM0H"
   },
   "outputs": [
    {
     "data": {
      "text/plain": [
       "38277"
      ]
     },
     "execution_count": 24,
     "metadata": {},
     "output_type": "execute_result"
    }
   ],
   "source": [
    "38277"
   ]
  },
  {
   "cell_type": "code",
   "execution_count": 42,
   "id": "273e922f",
   "metadata": {},
   "outputs": [],
   "source": [
    "control1 = pd.read_csv(\"Контроль.csv\").drop(columns=\"ID\")\n",
    "test1 = pd.read_csv(\"Тест.csv\").drop(columns=\"ID\")"
   ]
  },
  {
   "cell_type": "markdown",
   "id": "22e2d9b0",
   "metadata": {
    "id": "22e2d9b0"
   },
   "source": [
    "### 4. Принятие решения. Расписать подробно с аргументами."
   ]
  },
  {
   "cell_type": "code",
   "execution_count": 30,
   "id": "C9NO-_o3jON1",
   "metadata": {
    "id": "C9NO-_o3jON1"
   },
   "outputs": [],
   "source": [
    "from statsmodels.stats.proportion import proportions_ztest"
   ]
  },
  {
   "cell_type": "code",
   "execution_count": 43,
   "id": "6927caa9",
   "metadata": {},
   "outputs": [
    {
     "name": "stdout",
     "output_type": "stream",
     "text": [
      "p_value = 1.074048634319037e-05\n"
     ]
    }
   ],
   "source": [
    "count_control1 = control1[control1[\"Флаг дозвона\"]==1][\"Флаг продажи\"].sum()\n",
    "count_test1 = test1[test1[\"Флаг дозвона\"]==1][\"Флаг продажи\"].sum()\n",
    "nobs_control1 = len(control1[control1[\"Флаг дозвона\"]==1])\n",
    "nobs_test1 = len(test1[test1[\"Флаг дозвона\"]==1])\n",
    "\n",
    "_, p_value = proportions_ztest([count_control1, count_test1], [nobs_control1, nobs_test1], alternative = \"two-sided\")\n",
    "print('p_value =', p_value)"
   ]
  },
  {
   "attachments": {},
   "cell_type": "markdown",
   "id": "a1772e17",
   "metadata": {},
   "source": [
    "Критерий отвергает гипотезу, посмотрим среднее по данным."
   ]
  },
  {
   "cell_type": "code",
   "execution_count": 44,
   "id": "cc421c17",
   "metadata": {},
   "outputs": [
    {
     "name": "stdout",
     "output_type": "stream",
     "text": [
      "Контроль: 0.5249146757679181\n",
      "Тест:     0.44360902255639095\n"
     ]
    }
   ],
   "source": [
    "print('Контроль:', control1[control1[\"Флаг дозвона\"]==1][\"Флаг продажи\"].mean())\n",
    "print ('Тест:    ', test1[test1[\"Флаг дозвона\"]==1][\"Флаг продажи\"].mean())"
   ]
  },
  {
   "attachments": {},
   "cell_type": "markdown",
   "id": "fabd980d",
   "metadata": {},
   "source": [
    "Как видно, конверсия с жёстким скриптом больше, поэтому стоит оставить все как было."
   ]
  },
  {
   "cell_type": "markdown",
   "id": "f9e15111",
   "metadata": {
    "id": "f9e15111"
   },
   "source": [
    "------------------"
   ]
  },
  {
   "cell_type": "markdown",
   "id": "7ea196b1",
   "metadata": {
    "id": "7ea196b1"
   },
   "source": [
    "##  <ins>Задание 2.</ins>"
   ]
  },
  {
   "cell_type": "markdown",
   "id": "M0mI4jfTkCk6",
   "metadata": {
    "id": "M0mI4jfTkCk6"
   },
   "source": [
    "### 0. Запосить у бота в Телеграме условие командой `/get_project2_desc`."
   ]
  },
  {
   "cell_type": "markdown",
   "id": "e4691844",
   "metadata": {
    "id": "e4691844"
   },
   "source": [
    "### 1. Необходимо выбрать метрику и привести аргументацию."
   ]
  },
  {
   "cell_type": "code",
   "execution_count": null,
   "id": "Q3Zae2tSjQFW",
   "metadata": {
    "id": "Q3Zae2tSjQFW"
   },
   "outputs": [],
   "source": []
  },
  {
   "cell_type": "markdown",
   "id": "e36b594c",
   "metadata": {
    "id": "e36b594c"
   },
   "source": [
    "### 2. Альтернатива в критерии."
   ]
  },
  {
   "cell_type": "code",
   "execution_count": null,
   "id": "pBmniztEjRQP",
   "metadata": {
    "id": "pBmniztEjRQP"
   },
   "outputs": [],
   "source": []
  },
  {
   "cell_type": "markdown",
   "id": "692b97f3",
   "metadata": {
    "id": "692b97f3"
   },
   "source": [
    "### 3. Нужно выбрать параметр(-ы), влияющий(-ие) на целевую метрику. Привести аргументацию."
   ]
  },
  {
   "cell_type": "code",
   "execution_count": null,
   "id": "4bYv6W9ljUEg",
   "metadata": {
    "id": "4bYv6W9ljUEg"
   },
   "outputs": [],
   "source": []
  },
  {
   "cell_type": "markdown",
   "id": "9b40ecbb",
   "metadata": {
    "id": "9b40ecbb"
   },
   "source": [
    "### 4.1. Каков размер выборки? Привести аргументацию и написать как получилось то или иное число."
   ]
  },
  {
   "cell_type": "code",
   "execution_count": null,
   "id": "tk7WBLvmjSnM",
   "metadata": {
    "id": "tk7WBLvmjSnM"
   },
   "outputs": [],
   "source": []
  },
  {
   "cell_type": "markdown",
   "id": "b13ea8ee",
   "metadata": {
    "id": "b13ea8ee"
   },
   "source": [
    "### 4.2. Необходимо запросить у бота в Телеграме выборку полученного размера командой `/get_project2_sample {размер выборки}` и вписать <ins>код выборки</ins>:"
   ]
  },
  {
   "cell_type": "code",
   "execution_count": null,
   "id": "F5c-oqIBjVJS",
   "metadata": {
    "id": "F5c-oqIBjVJS"
   },
   "outputs": [],
   "source": []
  },
  {
   "cell_type": "markdown",
   "id": "f6945c8f",
   "metadata": {
    "id": "f6945c8f"
   },
   "source": [
    "### 5. Проверка на однородность, применение критерия. Принятие решения. Расписать подробно с аргументами."
   ]
  },
  {
   "cell_type": "code",
   "execution_count": null,
   "id": "LVlEnA4DjWp5",
   "metadata": {
    "id": "LVlEnA4DjWp5"
   },
   "outputs": [],
   "source": []
  }
 ],
 "metadata": {
  "colab": {
   "provenance": []
  },
  "kernelspec": {
   "display_name": "Python 3 (ipykernel)",
   "language": "python",
   "name": "python3"
  },
  "language_info": {
   "codemirror_mode": {
    "name": "ipython",
    "version": 3
   },
   "file_extension": ".py",
   "mimetype": "text/x-python",
   "name": "python",
   "nbconvert_exporter": "python",
   "pygments_lexer": "ipython3",
   "version": "3.9.10"
  }
 },
 "nbformat": 4,
 "nbformat_minor": 5
}
